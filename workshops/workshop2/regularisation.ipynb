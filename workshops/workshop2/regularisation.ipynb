{
  "nbformat": 4,
  "nbformat_minor": 0,
  "metadata": {
    "colab": {
      "name": "regularisation.ipynb",
      "provenance": [],
      "machine_shape": "hm",
      "include_colab_link": true
    },
    "kernelspec": {
      "name": "python3",
      "display_name": "Python 3"
    },
    "accelerator": "GPU"
  },
  "cells": [
    {
      "cell_type": "markdown",
      "metadata": {
        "id": "view-in-github",
        "colab_type": "text"
      },
      "source": [
        "<a href=\"https://colab.research.google.com/github/Anshuman-37/MLIS_2/blob/main/workshops/workshop2/regularisation.ipynb\" target=\"_parent\"><img src=\"https://colab.research.google.com/assets/colab-badge.svg\" alt=\"Open In Colab\"/></a>"
      ]
    },
    {
      "cell_type": "markdown",
      "metadata": {
        "id": "f9lgu7n44eFs"
      },
      "source": [
        "**Regularisation**\n",
        "\n",
        "In this example you are given a dataset (MNIST) with a limited number of training examples (only 1000 compared to the usual 60,000). \n",
        "\n",
        "Your goal is to implement regularisation methods to achive the **lowest possible test loss using this dataset**. \n",
        "\n",
        "You should consider methods given in the lectures including:\n",
        "\n",
        "*   Data augmentation - ? \n",
        "*   Early stopping - ?\n",
        "*   L1/L2 penalty norms - Done\n",
        "*   Dropout - Done\n",
        "\n",
        "You are free to change the network architecture and model complexity, but the main purpose of the workshop is to investigate regularisation (next week you will look at CNN architectures in detail).  - Done\n",
        "\n",
        "You are also free to change the choice of optimiser, and other hyper-parameters such as the batch size.  - Done\n"
      ]
    },
    {
      "cell_type": "code",
      "metadata": {
        "id": "cNviuTwum6vs"
      },
      "source": [
        "try:\n",
        "  # %tensorflow_version only exists in Colab.\n",
        "  %tensorflow_version 2.x\n",
        "except Exception:\n",
        "  pass"
      ],
      "execution_count": 1,
      "outputs": []
    },
    {
      "cell_type": "code",
      "metadata": {
        "id": "ARZRYjHQnE-0"
      },
      "source": [
        "from __future__ import absolute_import, division, print_function, unicode_literals\n",
        "\n",
        "import tensorflow as tf\n",
        "from tensorflow.keras import Sequential\n",
        "from tensorflow.keras.layers import *\n",
        "from tensorflow.keras import Model\n",
        "from tensorflow.keras.preprocessing.image import ImageDataGenerator\n",
        "import matplotlib.pyplot as plt\n",
        "from keras.regularizers import l2\n",
        "from keras.regularizers import l1\n",
        "\n",
        "import numpy as np"
      ],
      "execution_count": 2,
      "outputs": []
    },
    {
      "cell_type": "code",
      "metadata": {
        "id": "7I-MxTxAnH2d"
      },
      "source": [
        "tf.random.set_seed(1)"
      ],
      "execution_count": 3,
      "outputs": []
    },
    {
      "cell_type": "code",
      "metadata": {
        "id": "cxO576eJnMXN",
        "colab": {
          "base_uri": "https://localhost:8080/"
        },
        "outputId": "07f9a6de-a725-48b0-f78b-57d15bfd5a9e"
      },
      "source": [
        "print(tf.__version__)"
      ],
      "execution_count": 4,
      "outputs": [
        {
          "output_type": "stream",
          "name": "stdout",
          "text": [
            "2.7.0\n"
          ]
        }
      ]
    },
    {
      "cell_type": "markdown",
      "metadata": {
        "id": "q4F_HTQpnvSk"
      },
      "source": [
        "First load the MNIST dataset and add a channels dimension (channels last convention)"
      ]
    },
    {
      "cell_type": "code",
      "metadata": {
        "id": "Twdc-t9FnN_9",
        "colab": {
          "base_uri": "https://localhost:8080/"
        },
        "outputId": "abf43d35-7eaa-4e67-c3ca-ddfb57f7621c"
      },
      "source": [
        "mnist = tf.keras.datasets.mnist\n",
        "(x_train, y_train), (x_test, y_test) = mnist.load_data()\n",
        "\n",
        "x_train = x_train[..., tf.newaxis].astype(np.float32)\n",
        "x_test = x_test[..., tf.newaxis].astype(np.float32)\n",
        "\n",
        "img_rows = x_train.shape[1]\n",
        "img_cols = x_train.shape[2]"
      ],
      "execution_count": 5,
      "outputs": [
        {
          "output_type": "stream",
          "name": "stdout",
          "text": [
            "Downloading data from https://storage.googleapis.com/tensorflow/tf-keras-datasets/mnist.npz\n",
            "11493376/11490434 [==============================] - 0s 0us/step\n",
            "11501568/11490434 [==============================] - 0s 0us/step\n"
          ]
        }
      ]
    },
    {
      "cell_type": "markdown",
      "metadata": {
        "id": "IEsWYkNz5Po7"
      },
      "source": [
        "Let's use a much smaller training dataset of 1000 examples so overfitting is more problematic"
      ]
    },
    {
      "cell_type": "code",
      "metadata": {
        "id": "Qzt-HoIo4yks",
        "colab": {
          "base_uri": "https://localhost:8080/"
        },
        "outputId": "6feb7ee2-d2ed-4b6b-b56c-85585defc1e9"
      },
      "source": [
        "n_train = 1000\n",
        "x_train = x_train[0:n_train, :]\n",
        "y_train = y_train[0:n_train]\n",
        "\n",
        "print(x_train.shape)\n",
        "print(x_test.shape)"
      ],
      "execution_count": 6,
      "outputs": [
        {
          "output_type": "stream",
          "name": "stdout",
          "text": [
            "(1000, 28, 28, 1)\n",
            "(10000, 28, 28, 1)\n"
          ]
        }
      ]
    },
    {
      "cell_type": "code",
      "metadata": {
        "id": "x2JSWYGKjsPh"
      },
      "source": [
        "def plotImages(images_arr):\n",
        "    fig, axes = plt.subplots(1, 5, figsize=(15, 15))\n",
        "    axes = axes.flatten()\n",
        "    for img, ax in zip( images_arr, axes):\n",
        "        ax.imshow(np.squeeze(img))\n",
        "        ax.axis('off')\n",
        "    plt.tight_layout()\n",
        "    plt.show()"
      ],
      "execution_count": 7,
      "outputs": []
    },
    {
      "cell_type": "markdown",
      "metadata": {
        "id": "oDfQh4AfoBAH"
      },
      "source": [
        "Let's visualise several training examples - to do this we use the keras ImageDataGenerator. We rescale images by 1/255 to normalise them in the range (0, 1)"
      ]
    },
    {
      "cell_type": "code",
      "source": [
        "# Refer this for why we should rescale the images \n",
        "# https://github.com/Arsey/keras-transfer-learning-for-oxford102/issues/1\n",
        "\n",
        "image_generator = ImageDataGenerator(rescale=1./255) \n",
        "data_gen = image_generator.flow(x_train, y_train, batch_size=32) \n",
        "sample_images, sample_labels = next(data_gen)\n",
        "plotImages(sample_images[:5])"
      ],
      "metadata": {
        "colab": {
          "base_uri": "https://localhost:8080/",
          "height": 234
        },
        "id": "ORY3aQeLH2yM",
        "outputId": "4ec9aa89-5e27-4e41-d61e-76709c28f893"
      },
      "execution_count": 8,
      "outputs": [
        {
          "output_type": "display_data",
          "data": {
            "image/png": "[encoded data removed]",
            "text/plain": [
              "<Figure size 1080x1080 with 5 Axes>"
            ]
          },
          "metadata": {
            "needs_background": "light"
          }
        }
      ]
    },
    {
      "cell_type": "markdown",
      "metadata": {
        "id": "H8bStvJVoVlj"
      },
      "source": [
        "One regularisation method to deal with over-fitting is data augmentation. The image generator can apply various transformations to data - here we apply a random rotation of upto 20 degrees and visualise the same training example with different augmentations"
      ]
    },
    {
      "cell_type": "code",
      "metadata": {
        "id": "iz28zlncmIiP",
        "colab": {
          "base_uri": "https://localhost:8080/",
          "height": 234
        },
        "outputId": "fa7d67c3-5ba4-423c-82f1-6596858903ee"
      },
      "source": [
        "image_generator = ImageDataGenerator(rescale=1./255,rotation_range=20) \n",
        "data_gen = image_generator.flow(x_train, y_train, batch_size=32) \n",
        "augmented_images = [data_gen[0][0][0] for i in range(5)]\n",
        "plotImages(augmented_images)"
      ],
      "execution_count": 9,
      "outputs": [
        {
          "output_type": "display_data",
          "data": {
            "image/png": "[encoded data removed]",
            "text/plain": [
              "<Figure size 1080x1080 with 5 Axes>"
            ]
          },
          "metadata": {
            "needs_background": "light"
          }
        }
      ]
    },
    {
      "cell_type": "markdown",
      "metadata": {
        "id": "mIE6-wlA3J4h"
      },
      "source": [
        "Define a basic CNN with 32 convolutional filters using a 3x3 kernel, followed by a dense fully connected layer of 128 units and an output layer of 10 units with softmax activation "
      ]
    },
    {
      "cell_type": "code",
      "metadata": {
        "id": "ZKolHZQUL8-4"
      },
      "source": [
        "class BasicCNN(Model):\n",
        "    def __init__(self):\n",
        "        super(BasicCNN, self).__init__()\n",
        "        self.conv1 = Conv2D(128, 3, activation='relu')\n",
        "        self.polling1 =MaxPooling2D((2, 2), strides=(2, 2))\n",
        "        self.conv2 = Conv2D(64, 3, activation='relu')\n",
        "        self.polling2 =MaxPooling2D((2, 2), strides=(2, 2))\n",
        "        self.flatten = Flatten()\n",
        "        self.d1 = Dense(128, activation='selu',kernel_regularizer=l1(0.05), bias_regularizer=l1(0.05))\n",
        "        self.drp_out = Dropout(0.25)#input_shape=(128,))\n",
        "        self.d2 = Dense(64, activation='selu',kernel_regularizer=l1(0.05), bias_regularizer=l1(0.05))\n",
        "        self.drp_out2 = Dropout(0.25)\n",
        "        self.d3 = Dense(10, activation='softmax')\n",
        "    \n",
        "    def call(self, x):\n",
        "        x = self.conv1(x)\n",
        "        x = self.polling1(x)\n",
        "        x = self.conv2(x)\n",
        "        x = self.polling2(x)\n",
        "        x = self.flatten(x)\n",
        "        x = self.d1(x)\n",
        "        x = self.drp_out(x)\n",
        "        x = self.d2(x)\n",
        "        x = self.drp_out2(x)\n",
        "        return self.d3(x)\n"
      ],
      "execution_count": 29,
      "outputs": []
    },
    {
      "cell_type": "markdown",
      "metadata": {
        "id": "BuhNDi134B2G"
      },
      "source": [
        "Main training routine - uses the more detailed Gradient Tape API to iterate over the dataset and update the weights"
      ]
    },
    {
      "cell_type": "code",
      "metadata": {
        "id": "MZH8jdqKohiU"
      },
      "source": [
        " def trainer(cls, train_image_generator, test_image_generator, \n",
        "            verbose=False, batch_size=32, max_epochs=5):\n",
        "     #New varaiables to append train and test loss\n",
        "  tr_loss = []\n",
        "  te_loss = []\n",
        "  model = cls()\n",
        "\n",
        "  train_data_gen = train_image_generator.flow(x_train, y_train, \n",
        "                                              batch_size=batch_size) \n",
        "\n",
        "  test_data_gen = test_image_generator.flow(x_test, y_test, \n",
        "                                              batch_size=batch_size) \n",
        "\n",
        "  loss_object = tf.keras.losses.SparseCategoricalCrossentropy()\n",
        "  optimizer = tf.keras.optimizers.Adam()\n",
        "\n",
        "  train_loss = tf.keras.metrics.Mean(name='train_loss')\n",
        "  train_accuracy = tf.keras.metrics.SparseCategoricalAccuracy(\n",
        "      name='train_accuracy')\n",
        "  tr_loss.append(train_loss)\n",
        "  test_loss = tf.keras.metrics.Mean(name='test_loss')\n",
        "  test_accuracy = tf.keras.metrics.SparseCategoricalAccuracy(\n",
        "      name='test_accuracy')\n",
        "  te_loss.append(te_loss)\n",
        "  \n",
        "\n",
        "  @tf.function\n",
        "  def train_step(images, labels):\n",
        "    with tf.GradientTape() as tape:\n",
        "      predictions = model(images, training=True)\n",
        "      loss = loss_object(labels, predictions)\n",
        "    gradients = tape.gradient(loss, model.trainable_variables)\n",
        "    optimizer.apply_gradients(zip(gradients, model.trainable_variables))\n",
        "    train_loss(float(loss))\n",
        "    train_accuracy(labels, predictions)\n",
        "\n",
        "  @tf.function\n",
        "  def test_step(images, labels):\n",
        "    predictions = model(images, training=False)\n",
        "    t_loss = loss_object(labels, predictions)\n",
        "    test_loss(float(t_loss))\n",
        "    test_accuracy(labels, predictions)\n",
        "\n",
        "  for epoch in range(max_epochs):\n",
        "    # Reset the metrics at the start of the next epoch\n",
        "    train_loss.reset_states()\n",
        "    train_accuracy.reset_states()\n",
        "    test_loss.reset_states()\n",
        "    test_accuracy.reset_states()\n",
        "    #early_stopping = EarlyStopping(monitor='test_loss', patience=2)\n",
        "    batches = 0\n",
        "    for images, labels in train_data_gen:\n",
        "      train_step(images, labels)\n",
        "      batches += 1\n",
        "      if batches >= len(x_train) / batch_size:\n",
        "        break\n",
        "\n",
        "    batches = 0\n",
        "    for images, labels in test_data_gen:\n",
        "      test_step(images, labels)\n",
        "      batches += 1\n",
        "      if batches >= len(x_test) / batch_size:\n",
        "        break\n",
        "\n",
        "    if verbose:\n",
        "      template = 'Epoch {}, Loss: {}, Accuracy: {}, Test Loss: {}, Test Accuracy: {}'\n",
        "      print(template.format(epoch+1,\n",
        "                            train_loss.result(),\n",
        "                            train_accuracy.result()*100,\n",
        "                            test_loss.result(),\n",
        "                            test_accuracy.result()*100))\n",
        "  \n",
        "  return test_loss.result().numpy(), tr_loss, te_loss"
      ],
      "execution_count": 13,
      "outputs": []
    },
    {
      "cell_type": "markdown",
      "metadata": {
        "id": "BBSBEZftgDsL"
      },
      "source": [
        "Baseline run with no regularisation"
      ]
    },
    {
      "cell_type": "code",
      "metadata": {
        "id": "LkemC6SvTLOH",
        "colab": {
          "base_uri": "https://localhost:8080/"
        },
        "outputId": "e842acbf-810d-4ed3-968b-baa7f8d7db4b"
      },
      "source": [
        "train_image_generator = ImageDataGenerator(rescale=1./255) \n",
        "test_image_generator = ImageDataGenerator(rescale=1./255)\n",
        "epochs = 15\n",
        "final_test_loss ,train_Loss , test_loss = trainer(BasicCNN, train_image_generator, test_image_generator, verbose=True, max_epochs=epochs)\n",
        "print('Final test loss:', final_test_loss)\n",
        "epochs = np.arange(1,9)"
      ],
      "execution_count": 30,
      "outputs": [
        {
          "output_type": "stream",
          "name": "stdout",
          "text": [
            "Epoch 1, Loss: 1.4119194746017456, Accuracy: 54.400001525878906, Test Loss: 0.6314666867256165, Test Accuracy: 78.72999572753906\n",
            "Epoch 2, Loss: 0.4092411398887634, Accuracy: 86.0999984741211, Test Loss: 0.2920588254928589, Test Accuracy: 91.27999877929688\n",
            "Epoch 3, Loss: 0.2736033499240875, Accuracy: 92.4000015258789, Test Loss: 0.27283647656440735, Test Accuracy: 91.54999542236328\n",
            "Epoch 4, Loss: 0.19081424176692963, Accuracy: 94.4000015258789, Test Loss: 0.19343146681785583, Test Accuracy: 94.05999755859375\n",
            "Epoch 5, Loss: 0.13763809204101562, Accuracy: 95.5999984741211, Test Loss: 0.1903229057788849, Test Accuracy: 93.75\n",
            "Epoch 6, Loss: 0.08859603106975555, Accuracy: 97.69999694824219, Test Loss: 0.1776835024356842, Test Accuracy: 94.44000244140625\n",
            "Epoch 7, Loss: 0.11402160674333572, Accuracy: 96.0, Test Loss: 0.1799110472202301, Test Accuracy: 94.27999877929688\n",
            "Epoch 8, Loss: 0.0654933899641037, Accuracy: 98.29999542236328, Test Loss: 0.17500005662441254, Test Accuracy: 94.6300048828125\n",
            "Epoch 9, Loss: 0.058131035417318344, Accuracy: 98.4000015258789, Test Loss: 0.16070738434791565, Test Accuracy: 95.09000396728516\n",
            "Epoch 10, Loss: 0.03352230414748192, Accuracy: 99.19999694824219, Test Loss: 0.15806367993354797, Test Accuracy: 95.31000518798828\n",
            "Epoch 11, Loss: 0.03187592327594757, Accuracy: 99.19999694824219, Test Loss: 0.16355939209461212, Test Accuracy: 95.25\n",
            "Epoch 12, Loss: 0.027789296582341194, Accuracy: 99.19999694824219, Test Loss: 0.15484274923801422, Test Accuracy: 95.54000091552734\n",
            "Epoch 13, Loss: 0.015826059505343437, Accuracy: 99.80000305175781, Test Loss: 0.1671258807182312, Test Accuracy: 95.27999877929688\n",
            "Epoch 14, Loss: 0.015393061563372612, Accuracy: 99.69999694824219, Test Loss: 0.15503308176994324, Test Accuracy: 95.68000030517578\n",
            "Epoch 15, Loss: 0.00928441621363163, Accuracy: 99.9000015258789, Test Loss: 0.14935436844825745, Test Accuracy: 95.8800048828125\n",
            "Final test loss: 0.14935437\n"
          ]
        }
      ]
    },
    {
      "cell_type": "code",
      "metadata": {
        "id": "Lx1vid62esyU",
        "colab": {
          "base_uri": "https://localhost:8080/"
        },
        "outputId": "4f7ae2cf-a04b-4cf9-cb5e-78c496a496b1"
      },
      "source": [
        "# def plot_metric(history, metric):\n",
        "#     train_metrics = history.history[metric]\n",
        "#     val_metrics = history.history['val_'+metric]\n",
        "#     epochs = range(1, len(train_metrics) + 1)\n",
        "#     plt.plot(epochs, train_metrics)\n",
        "#     plt.plot(epochs, val_metrics)\n",
        "#     plt.title('Training and validation '+ metric)\n",
        "#     plt.xlabel(\"Epochs\")\n",
        "#     plt.ylabel(metric)\n",
        "#     plt.legend([\"train_\"+metric, 'val_'+metric])\n",
        "#     plt.show()\n",
        "\n",
        "# plot_metric(history,test)\n",
        "print(x_train.shape)\n",
        "print(y_train.shape)\n",
        "\n"
      ],
      "execution_count": 161,
      "outputs": [
        {
          "output_type": "stream",
          "name": "stdout",
          "text": [
            "(1000, 28, 28, 1)\n",
            "(1000,)\n"
          ]
        }
      ]
    },
    {
      "cell_type": "code",
      "source": [
        "# Defining the model\n",
        "model = Sequential([\n",
        "                    Conv2D(filters=128,kernel_size=(3,3),activation='relu',padding='same'),#,input_shape=(28,28,1)),\n",
        "                    MaxPooling2D(pool_size = (2,2) ,strides = 2),\n",
        "                    Conv2D(filters=64,kernel_size=(3,3),activation='leaky_relu',padding='same'),#,input_shape=(28,28,1)),\n",
        "                    MaxPooling2D(pool_size = (2,2) ,strides = 2),\n",
        "                    Flatten(),\n",
        "                    Dense(units=128,activation='elu'),\n",
        "                    Dropout(0.25),\n",
        "                    Dense(units=64,activation = 'elu'),\n",
        "                    Dropout(0.25),\n",
        "                    Dense(units =10,activation = 'softmax')\n",
        "\n",
        "]) "
      ],
      "metadata": {
        "id": "MUQ2Ax9h0P2F"
      },
      "execution_count": 165,
      "outputs": []
    },
    {
      "cell_type": "code",
      "source": [
        "plot_metric(history, metric):\n",
        "    train_metrics = history.history[metric]\n",
        "    val_metrics = history.history['val_'+metric]\n",
        "    epochs = range(1, len(train_metrics) + 1)\n",
        "    plt.plot(epochs, train_metrics)\n",
        "    plt.plot(epochs, val_metrics)\n",
        "    plt.title('Training and validation '+ metric)\n",
        "    plt.xlabel(\"Epochs\")\n",
        "    plt.ylabel(metric)\n",
        "    plt.legend([\"train_\"+metric, 'val_'+metric])\n",
        "    plt.show()"
      ],
      "metadata": {
        "id": "0QB-8qoIdrg7"
      },
      "execution_count": null,
      "outputs": []
    }
  ]
}