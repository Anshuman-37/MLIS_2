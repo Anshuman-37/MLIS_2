{
  "nbformat": 4,
  "nbformat_minor": 0,
  "metadata": {
    "colab": {
      "name": "backprop.ipynb",
      "provenance": [],
      "include_colab_link": true
    },
    "kernelspec": {
      "name": "python3",
      "display_name": "Python 3"
    }
  },
  "cells": [
    {
      "cell_type": "markdown",
      "metadata": {
        "id": "view-in-github",
        "colab_type": "text"
      },
      "source": [
        "<a href=\"https://colab.research.google.com/github/Anshuman-37/MLIS_2/blob/main/examples/intro/backprop.ipynb\" target=\"_parent\"><img src=\"https://colab.research.google.com/assets/colab-badge.svg\" alt=\"Open In Colab\"/></a>"
      ]
    },
    {
      "cell_type": "markdown",
      "metadata": {
        "id": "hq1AS2ym_fP0"
      },
      "source": [
        "Let us again attempt to learn the XOR function using the same MLP network,  this time starting with random initial weights and using back-propogation with simple gradient descent.\n",
        "\n",
        "The error functions for each neuron are\n",
        "\\begin{eqnarray}\n",
        "\\Delta_1^{(2)} &=& {\\partial{J} \\over \\partial a_1^{(2)}}\\,, \\\\\n",
        "\\Delta_1^{(1)} &=&  \\Delta_1^{(2)} W_{11}^{(2)}   \\Theta ( z_1^{(1)} )  \\\\\n",
        "\\Delta_2^{(1)} &=&  \\Delta_1^{(2)} W_{21}^{(2)}  \\Theta ( z_2^{(1)} )  \\,,\n",
        "\\end{eqnarray}\n",
        "since the Heaviside step function $\\Theta$ is the derivative of the ReLU activation function."
      ]
    },
    {
      "cell_type": "code",
      "metadata": {
        "id": "QVbMGrw2__Zm"
      },
      "source": [
        "import numpy as np\n",
        "import matplotlib.pyplot as plt"
      ],
      "execution_count": 3,
      "outputs": []
    },
    {
      "cell_type": "code",
      "metadata": {
        "id": "7udklsBw_TOu"
      },
      "source": [
        "np.random.seed(2)"
      ],
      "execution_count": 4,
      "outputs": []
    },
    {
      "cell_type": "code",
      "metadata": {
        "id": "f_EC8JkUAHwO",
        "outputId": "c231ffbd-fed3-40d2-e554-4889eeecbde6",
        "colab": {
          "base_uri": "https://localhost:8080/"
        }
      },
      "source": [
        "X = np.array([[0,0], [0,1], [1,0], [1,1]])\n",
        "print(X)"
      ],
      "execution_count": 5,
      "outputs": [
        {
          "output_type": "stream",
          "name": "stdout",
          "text": [
            "[[0 0]\n",
            " [0 1]\n",
            " [1 0]\n",
            " [1 1]]\n"
          ]
        }
      ]
    },
    {
      "cell_type": "code",
      "metadata": {
        "id": "JzYShJU4ANmR",
        "outputId": "00c8c19b-9365-49c3-ed4d-c74a5e4f3e38",
        "colab": {
          "base_uri": "https://localhost:8080/"
        }
      },
      "source": [
        "Y = np.array([[0], [1], [1], [0]])\n",
        "print(Y)"
      ],
      "execution_count": 6,
      "outputs": [
        {
          "output_type": "stream",
          "name": "stdout",
          "text": [
            "[[0]\n",
            " [1]\n",
            " [1]\n",
            " [0]]\n"
          ]
        }
      ]
    },
    {
      "cell_type": "code",
      "source": [
        "def sigmoid(z):\n",
        "    return (1/(1+np.exp(-z)))\n",
        "    \n",
        "def diff_sigmoid(z):\n",
        "     return sigmoid(z) * ( 1 - sigmoid(z))"
      ],
      "metadata": {
        "id": "O_OETKQHm3Ws"
      },
      "execution_count": 7,
      "outputs": []
    },
    {
      "cell_type": "markdown",
      "metadata": {
        "id": "E3O5LePZVjzp"
      },
      "source": [
        "Define the MLP model"
      ]
    },
    {
      "cell_type": "code",
      "metadata": {
        "id": "TuU43LLm_Aj1"
      },
      "source": [
        "class MLP(object):\n",
        "\n",
        "  def __init__(self):\n",
        "    # Initialise with random weights\n",
        "    self.weights_1 = 0.1 * np.random.normal(size=(3,2))\n",
        "    self.weights_2 = 0.1 * np.random.normal(size=(3,1))\n",
        "\n",
        "  def forward(self, x):\n",
        "    # Do a forward pass\n",
        "    if len(x.shape) == 1:\n",
        "      # Single example, so add a batch dimension of 1\n",
        "      x = np.expand_dims(x, axis=0)\n",
        "    # Hidden layer \n",
        "    z_1 = np.matmul(np.hstack((np.ones(shape=(x.shape[0], 1)), x)), self.weights_1)\n",
        "    # Apply ReLU activation function\n",
        "    #a_1 = np.maximum(z_1, 0)\n",
        "    a_1 = np.maximum(z_1,0)\n",
        "    # Output layer\n",
        "    z_2 = np.matmul(np.hstack((np.ones(shape=(a_1.shape[0], 1)), a_1)), self.weights_2)\n",
        "    # Linear activation \n",
        "    a_2 = sigmoid(z_2)\n",
        "    return z_1, a_1, z_2, a_2"
      ],
      "execution_count": 8,
      "outputs": []
    },
    {
      "cell_type": "markdown",
      "metadata": {
        "id": "dSTxT91KjAe4"
      },
      "source": [
        "Push the true solution through the network and check it gives zero loss"
      ]
    },
    {
      "cell_type": "code",
      "metadata": {
        "id": "GGnwcJdzUs1l",
        "outputId": "8d3d2fd0-be2d-41d7-c1f9-8aedc828f498",
        "colab": {
          "base_uri": "https://localhost:8080/"
        }
      },
      "source": [
        "m = MLP()\n",
        "m.weights_1 = np.array([[0, -1], [1,1], [1,1]], dtype=np.float)\n",
        "m.weights_2 = np.array([[0], [1], [-2]], dtype=np.float)\n",
        "z_1, a_1, z_2, a_2 = m.forward(X)\n",
        "# print(0.25 * np.sum((a_2 - Y)**2))\n",
        "# Cross Entropy loss\n",
        "print -0.25"
      ],
      "execution_count": 9,
      "outputs": [
        {
          "output_type": "stream",
          "name": "stdout",
          "text": [
            "0.16116474406425663\n"
          ]
        }
      ]
    },
    {
      "cell_type": "code",
      "metadata": {
        "id": "kkRYVpaF9pQc"
      },
      "source": [
        "num_epochs = 1750\n",
        "learning_rate = .35"
      ],
      "execution_count": null,
      "outputs": []
    },
    {
      "cell_type": "markdown",
      "metadata": {
        "id": "eaq2lIzwqoPY"
      },
      "source": [
        "Update random initial weights and biases by back-prop"
      ]
    },
    {
      "cell_type": "code",
      "metadata": {
        "id": "kaRG-DXJjiD1",
        "outputId": "a9eb96b6-3753-4810-eea9-dc34e1918da4",
        "colab": {
          "base_uri": "https://localhost:8080/"
        }
      },
      "source": [
        "m = MLP()\n",
        "loss_history = []\n",
        "weights_1_history = []\n",
        "weights_2_history = []\n",
        "for epoch in range(num_epochs):\n",
        "  # Do forward pass\n",
        "  z_1, a_1, z_2, a_2 = m.forward(X)\n",
        "  loss = 0.25 * np.sum((a_2 - Y)**2)\n",
        "  loss_history.append(loss)\n",
        "  if epoch % 250 == 0:\n",
        "    print(epoch, loss)\n",
        "  # Delta_2 has shape(4, 1), the first dimension being the batch dimension\n",
        "  delta_2 = 0.5 * ( a_2 - Y)\n",
        "  #g_prime_1 = np.heaviside(z_1, 0)\n",
        "  g_prime_1 = diff_sigmoid(z_1)\n",
        "  # Delta_1 has shape (4, 2)\n",
        "  delta_1 = np.matmul(delta_2, m.weights_2[1:3, :].T) * g_prime_1\n",
        "  # Biases of layers connecting input and hidden layers\n",
        "  m.weights_1[0, :] -= learning_rate * np.sum(delta_1[:, :], axis=0)\n",
        "  # Weights of layers connecting input and hidden layers \n",
        "  m.weights_1[1:3, :] -= learning_rate * np.matmul(X.T, delta_1)\n",
        "  # Biases of layers connecting hidden and output layers\n",
        "  m.weights_2[0, :] -= learning_rate * np.sum(delta_2[:, :], axis=0)\n",
        "  # Weights of layers connecting hidden and output layers\n",
        "  m.weights_2[1:3, :] -= learning_rate * np.matmul(a_1.T, delta_2)\n",
        "  weights_1_history.append(np.copy(m.weights_1))\n",
        "  weights_2_history.append(np.copy(m.weights_2))\n",
        "loss_history = np.array(loss_history)\n",
        "weights_1_history = np.array(weights_1_history)\n",
        "weights_2_history = np.array(weights_2_history)"
      ],
      "execution_count": null,
      "outputs": [
        {
          "output_type": "stream",
          "name": "stdout",
          "text": [
            "0 0.4993374494614312\n",
            "250 0.250005535390104\n",
            "500 0.24999840325430323\n",
            "750 0.24999368809032796\n",
            "1000 0.24998976831160333\n",
            "1250 0.24998580075568935\n",
            "1500 0.24998116387095787\n"
          ]
        }
      ]
    },
    {
      "cell_type": "code",
      "metadata": {
        "id": "l_UNqVI12Fez",
        "outputId": "9b9b6a5e-0a91-416a-dbf8-8dcbfc13cfd7",
        "colab": {
          "base_uri": "https://localhost:8080/",
          "height": 369
        }
      },
      "source": [
        "plt.figure(figsize=(15, 5))\n",
        "ax = plt.subplot(2, 5, 1)\n",
        "ax.plot(loss_history[:])\n",
        "ax.set_xlabel('Epoch', fontsize=14)\n",
        "ax.set_ylabel('Loss', fontsize=14)\n",
        "ax = plt.subplot(2, 5, 2)\n",
        "ax.plot(weights_1_history[:,0,0])\n",
        "ax.set_xlabel('Epoch', fontsize=14)\n",
        "ax.set_ylabel('$c_1$', fontsize=14)\n",
        "ax = plt.subplot(2, 5, 3)\n",
        "ax.plot(weights_1_history[:,0,1])\n",
        "ax.set_xlabel('Epoch', fontsize=14)\n",
        "ax.set_ylabel('$c_2$', fontsize=14)\n",
        "ax = plt.subplot(2, 5, 4)\n",
        "ax.plot(weights_1_history[:,1,0])\n",
        "ax.set_xlabel('Epoch', fontsize=14)\n",
        "ax.set_ylabel('$W_{11}$', fontsize=14)\n",
        "ax = plt.subplot(2, 5, 5)\n",
        "ax.plot(weights_1_history[:,1,1])\n",
        "ax.set_xlabel('Epoch', fontsize=14)\n",
        "ax.set_ylabel('$W_{12}$', fontsize=14)\n",
        "ax = plt.subplot(2, 5, 6)\n",
        "ax.plot(weights_1_history[:,2,0])\n",
        "ax.set_xlabel('Epoch', fontsize=14)\n",
        "ax.set_ylabel('$W_{21}$', fontsize=14)\n",
        "ax = plt.subplot(2, 5, 7)\n",
        "ax.plot(weights_1_history[:,2,1])\n",
        "ax.set_xlabel('Epoch', fontsize=14)\n",
        "ax.set_ylabel('$W_{22}$', fontsize=14)\n",
        "ax = plt.subplot(2, 5, 8)\n",
        "ax.plot(weights_2_history[:,0,0])\n",
        "ax.set_xlabel('Epoch', fontsize=14)\n",
        "ax.set_ylabel('$b$', fontsize=14)\n",
        "ax = plt.subplot(2, 5, 9)\n",
        "ax.plot(weights_2_history[:,1,0])\n",
        "ax.set_xlabel('Epoch', fontsize=14)\n",
        "ax.set_ylabel('$w_1$', fontsize=14)\n",
        "ax = plt.subplot(2, 5, 10)\n",
        "ax.plot(weights_2_history[:,2,0])\n",
        "ax.set_xlabel('Epoch', fontsize=14)\n",
        "ax.set_ylabel('$w_2$', fontsize=14)\n",
        "plt.tight_layout()\n",
        "plt.show()"
      ],
      "execution_count": null,
      "outputs": [
        {
          "output_type": "display_data",
          "data": {
            "image/png": "[encoded data removed]",
            "text/plain": [
              "<Figure size 1080x360 with 10 Axes>"
            ]
          },
          "metadata": {
            "needs_background": "light"
          }
        }
      ]
    },
    {
      "cell_type": "code",
      "metadata": {
        "id": "lVModDozl3CF",
        "outputId": "0e47f34c-5f4e-42c1-e864-d9848a8ba69b",
        "colab": {
          "base_uri": "https://localhost:8080/"
        }
      },
      "source": [
        "print(m.weights_1)"
      ],
      "execution_count": null,
      "outputs": [
        {
          "output_type": "stream",
          "name": "stdout",
          "text": [
            "[[-0.1702086   0.05144041]\n",
            " [ 0.18953005 -0.06652876]\n",
            " [-0.19500083  0.06108601]]\n"
          ]
        }
      ]
    },
    {
      "cell_type": "code",
      "metadata": {
        "id": "AbgcccxHoKjC",
        "outputId": "6749c81a-79eb-4184-babd-1f3453bc21a3",
        "colab": {
          "base_uri": "https://localhost:8080/"
        }
      },
      "source": [
        "print(m.weights_2)"
      ],
      "execution_count": null,
      "outputs": [
        {
          "output_type": "stream",
          "name": "stdout",
          "text": [
            "[[0.27667118]\n",
            " [0.14882772]\n",
            " [0.30325618]]\n"
          ]
        }
      ]
    },
    {
      "cell_type": "code",
      "metadata": {
        "id": "nePskL-toOUq",
        "outputId": "a0dbafb1-f419-40d3-f9df-25b733833cea",
        "colab": {
          "base_uri": "https://localhost:8080/"
        }
      },
      "source": [
        "z_1, a_1, z_2, a_2 = m.forward(X)\n",
        "print(a_2)"
      ],
      "execution_count": null,
      "outputs": [
        {
          "output_type": "stream",
          "name": "stdout",
          "text": [
            "[[0.50029448]\n",
            " [0.49779595]\n",
            " [0.50228811]\n",
            " [0.49968005]]\n"
          ]
        }
      ]
    },
    {
      "cell_type": "code",
      "source": [
        ""
      ],
      "metadata": {
        "id": "UgGFxkFHqsJr"
      },
      "execution_count": null,
      "outputs": []
    }
  ]
}